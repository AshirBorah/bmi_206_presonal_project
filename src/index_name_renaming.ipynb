{
 "cells": [
  {
   "cell_type": "code",
   "execution_count": 1,
   "id": "a61457ab-b0ee-4ff0-811c-b3c45bbfcc7d",
   "metadata": {},
   "outputs": [],
   "source": [
    "import pandas as pd\n",
    "from glob import glob\n",
    "form tqdm import tqdm"
   ]
  },
  {
   "cell_type": "code",
   "execution_count": 6,
   "id": "722987de-e5c1-4503-80ea-d4afa1baf9b2",
   "metadata": {},
   "outputs": [],
   "source": [
    "file_list = glob('../data/raw/*.csv')"
   ]
  },
  {
   "cell_type": "code",
   "execution_count": 9,
   "id": "89ff6d8c-e506-4ad9-a71c-31be31f0cc7e",
   "metadata": {},
   "outputs": [],
   "source": [
    "for file in tqdm(file_list):\n",
    "    df = pd.read_csv(file)\n",
    "    df.index.name = 'Row.name'\n",
    "    df.to_csv(file)"
   ]
  },
  {
   "cell_type": "code",
   "execution_count": null,
   "id": "4fc4e943-8507-4331-8194-e2c077e34e8f",
   "metadata": {},
   "outputs": [],
   "source": []
  }
 ],
 "metadata": {
  "kernelspec": {
   "display_name": "Python 3 (ipykernel)",
   "language": "python",
   "name": "python3"
  },
  "language_info": {
   "codemirror_mode": {
    "name": "ipython",
    "version": 3
   },
   "file_extension": ".py",
   "mimetype": "text/x-python",
   "name": "python",
   "nbconvert_exporter": "python",
   "pygments_lexer": "ipython3",
   "version": "3.9.13"
  }
 },
 "nbformat": 4,
 "nbformat_minor": 5
}
